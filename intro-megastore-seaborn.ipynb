{
 "cells": [
  {
   "cell_type": "markdown",
   "metadata": {},
   "source": [
    "# Data Visualization in Python\n",
    "\n",
    "In this example, we will be plotting some sales figures for produce sold at Indian outlet stores.\n",
    "\n",
    "We start by importing additional packages necessary for this visualization."
   ]
  },
  {
   "cell_type": "code",
   "execution_count": null,
   "metadata": {},
   "outputs": [],
   "source": [
    "import pandas\n",
    "import seaborn\n",
    "\n",
    "print(\"Packages loaded!\")"
   ]
  },
  {
   "cell_type": "markdown",
   "metadata": {},
   "source": [
    "Next, we load data and look at the first few rows."
   ]
  },
  {
   "cell_type": "code",
   "execution_count": null,
   "metadata": {},
   "outputs": [],
   "source": [
    "sales = pandas.read_csv(\"data/Megastore_Produce.csv\")\n",
    "sales.head()"
   ]
  },
  {
   "cell_type": "markdown",
   "metadata": {},
   "source": [
    "Our first plot will be plotting the average Maximum Retail Price (MRP) over time. Using the seaborn method `regplot`, it will automatically draw the line from linear regression."
   ]
  },
  {
   "cell_type": "code",
   "execution_count": null,
   "metadata": {},
   "outputs": [],
   "source": [
    "seaborn.regplot(x = \"Year\", y = \"Mean_MRP\", data = sales)"
   ]
  },
  {
   "cell_type": "markdown",
   "metadata": {},
   "source": [
    "We should update our axis labels, using the `set` command. Note here we also assigned the plot to a variable (`sales_plot`), so we could manipulate it."
   ]
  },
  {
   "cell_type": "code",
   "execution_count": null,
   "metadata": {},
   "outputs": [],
   "source": [
    "sales_plot = seaborn.regplot(x = \"Year\", y = \"Mean_MRP\", data = sales)\n",
    "sales_plot.set(ylabel = \"Mean MRP (INR)\")"
   ]
  },
  {
   "cell_type": "markdown",
   "metadata": {},
   "source": [
    "Next, we will modify our code to change what we plot on the y-axis. In this case we want to plot `Total_Sales` on the y-axis. Update the code below to change the values we are plotting on the y-axis."
   ]
  },
  {
   "cell_type": "code",
   "execution_count": null,
   "metadata": {},
   "outputs": [],
   "source": [
    "sales_plot = seaborn.regplot(x = \"Year\", y = \"Mean_MRP\", data = sales)\n",
    "sales_plot.set(ylabel = \"Mean MRP (INR)\")"
   ]
  },
  {
   "cell_type": "markdown",
   "metadata": {},
   "source": [
    "By default, it will add a linear regression line and confidence intervals. This does not look like a linear relationship (total sales does not seem to increase constantly over time). Try a polynomial relationship by adding `order = 2` to the `regplot` method (immediately following the data specification)."
   ]
  },
  {
   "cell_type": "code",
   "execution_count": null,
   "metadata": {},
   "outputs": [],
   "source": [
    "# Paste your code from above here, and update"
   ]
  },
  {
   "cell_type": "markdown",
   "metadata": {},
   "source": [
    "To finish off this plot, we want to write the plot to a png file."
   ]
  },
  {
   "cell_type": "code",
   "execution_count": null,
   "metadata": {},
   "outputs": [],
   "source": [
    "sales_plot = # Copy and paste the plot code from the code block above\n",
    "\n",
    "# Saves the plot to vaccination-cases.png\n",
    "sales_plot.get_figure().savefig(\"output/sales-plot.png\")"
   ]
  },
  {
   "cell_type": "markdown",
   "metadata": {},
   "source": [
    "After updating and running this last block of code, you can click the Jupyter logo in the top-left part of this notebook to see files that you can download (including the one we just saved). You can open a new tab with this view by right-clicking or control-clicking the icon."
   ]
  }
 ],
 "metadata": {
  "kernelspec": {
   "display_name": "Python 3",
   "language": "python",
   "name": "python3"
  },
  "language_info": {
   "codemirror_mode": {
    "name": "ipython",
    "version": 3
   },
   "file_extension": ".py",
   "mimetype": "text/x-python",
   "name": "python",
   "nbconvert_exporter": "python",
   "pygments_lexer": "ipython3",
   "version": "3.8.10"
  }
 },
 "nbformat": 4,
 "nbformat_minor": 4
}
