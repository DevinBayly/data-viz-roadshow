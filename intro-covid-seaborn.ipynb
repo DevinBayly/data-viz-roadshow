{
 "cells": [
  {
   "cell_type": "markdown",
   "metadata": {},
   "source": [
    "# Data Visualization in Python\n",
    "\n",
    "In this example, we will be plotting the COVID case rate by the vaccination rates for U.S. states and territories.\n",
    "\n",
    "We start by importing additional packages necessary for this visualization."
   ]
  },
  {
   "cell_type": "code",
   "execution_count": null,
   "metadata": {},
   "outputs": [],
   "source": [
    "import pandas\n",
    "import seaborn\n",
    "\n",
    "print(\"Packages loaded!\")"
   ]
  },
  {
   "cell_type": "markdown",
   "metadata": {},
   "source": [
    "Next, we load data and look at the first few rows."
   ]
  },
  {
   "cell_type": "code",
   "execution_count": null,
   "metadata": {},
   "outputs": [],
   "source": [
    "covid = pandas.read_csv(\"data/COVID_Data.csv\")\n",
    "covid.head()"
   ]
  },
  {
   "cell_type": "markdown",
   "metadata": {},
   "source": [
    "Our first plot will be plotting the case rate per 100,000 people vs. the percentage of people who have received at least one dose. Using the seaborn method `regplot`, it will automatically draw the line from linear regression."
   ]
  },
  {
   "cell_type": "code",
   "execution_count": null,
   "metadata": {},
   "outputs": [],
   "source": [
    "seaborn.regplot(x = \"One_Dose\", y = \"Case_Rate\", data = covid)"
   ]
  },
  {
   "cell_type": "markdown",
   "metadata": {},
   "source": [
    "We should update our axis labels, using the `set` command. Note here we also assigned the plot to a variable (`covid_plot`), so we could manipulate it."
   ]
  },
  {
   "cell_type": "code",
   "execution_count": null,
   "metadata": {},
   "outputs": [],
   "source": [
    "covid_plot = seaborn.regplot(x = \"One_Dose\", y = \"Case_Rate\", data = covid)\n",
    "covid_plot.set(xlabel = \"Percentage with at least one dose\", ylabel = \"Cases (per 100K)\")"
   ]
  },
  {
   "cell_type": "markdown",
   "metadata": {},
   "source": [
    "Next, we will modify our code to change what we plot on the x-axis. In this case we want to plot Dose_Rate on the x-axis. Update the code below to change the values we are plotting on the x-axis."
   ]
  },
  {
   "cell_type": "code",
   "execution_count": null,
   "metadata": {},
   "outputs": [],
   "source": [
    "covid_plot = seaborn.regplot(x = \"One_Dose\", y = \"Case_Rate\", data = covid)"
   ]
  },
  {
   "cell_type": "markdown",
   "metadata": {},
   "source": [
    "By default, it will add a linear regression line and confidence intervals. This does not look like a linear relationship (the case rate doesn't appear to increase continuously with vaccination rate). Try a polynomial relationship by adding `order = 2` to the `regplot` method (immediately following the data specification)."
   ]
  },
  {
   "cell_type": "code",
   "execution_count": null,
   "metadata": {},
   "outputs": [],
   "source": [
    "# Paste your code from above here, and update"
   ]
  },
  {
   "cell_type": "markdown",
   "metadata": {},
   "source": [
    "Maybe a little better, but a 3-order polynomial works best. Change the order specification, replacing the `2` with `3` in the `order` argument."
   ]
  },
  {
   "cell_type": "code",
   "execution_count": null,
   "metadata": {},
   "outputs": [],
   "source": [
    "# Paste your code from the previous code block and update"
   ]
  },
  {
   "cell_type": "markdown",
   "metadata": {},
   "source": [
    "To finish off this plot, we want to:\n",
    "\n",
    "1. Update the axis labels to be readable and include units in parentheses\n",
    "2. Write the plot to a png file"
   ]
  },
  {
   "cell_type": "code",
   "execution_count": null,
   "metadata": {},
   "outputs": [],
   "source": [
    "vaccination_plot = # Copy and paste the plot code from the code block above\n",
    "vaccination_plot.set(xlabel = \"<UPDATE>\", ylabel = \"<UPDATE>\") # Replace <UPDATE> with appropriate labels\n",
    "# Saves the plot to vaccination-cases.png\n",
    "vaccination_plot.get_figure().savefig(\"vaccination-cases.png\")"
   ]
  },
  {
   "cell_type": "markdown",
   "metadata": {},
   "source": [
    "After updating and running this last block of code, you can click the Jupyter logo in the top-left part of this notebook to see files that you can download (including the one we just saved). You can open a new tab with this view by right-clicking or control-clicking the icon."
   ]
  }
 ],
 "metadata": {
  "kernelspec": {
   "display_name": "Python 3",
   "language": "python",
   "name": "python3"
  },
  "language_info": {
   "codemirror_mode": {
    "name": "ipython",
    "version": 3
   },
   "file_extension": ".py",
   "mimetype": "text/x-python",
   "name": "python",
   "nbconvert_exporter": "python",
   "pygments_lexer": "ipython3",
   "version": "3.8.10"
  }
 },
 "nbformat": 4,
 "nbformat_minor": 4
}
