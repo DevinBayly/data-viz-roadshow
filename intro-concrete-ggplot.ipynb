{
 "cells": [
  {
   "cell_type": "markdown",
   "metadata": {},
   "source": [
    "# Data Visualization in R\n",
    "\n",
    "In this example, we will be plotting the factors that affect compressive strength of concrete.\n",
    "\n",
    "We start by importing additional packages necessary for this visualization."
   ]
  },
  {
   "cell_type": "code",
   "execution_count": null,
   "metadata": {},
   "outputs": [],
   "source": [
    "library(\"ggplot2\")\n",
    "\n",
    "print(\"Libraries loaded!\")"
   ]
  },
  {
   "cell_type": "markdown",
   "metadata": {},
   "source": [
    "Next, we load data and look at the first few rows."
   ]
  },
  {
   "cell_type": "code",
   "execution_count": null,
   "metadata": {},
   "outputs": [],
   "source": [
    "concrete <- read.csv(file = \"data/Concrete_Data.csv\")\n",
    "head(concrete)"
   ]
  },
  {
   "cell_type": "markdown",
   "metadata": {},
   "source": [
    "Our first plot will be plotting the Compressive Strength vs. the amount of cement. Using the ggplot method `geom_smooth`, it will automatically draw the line from linear regression."
   ]
  },
  {
   "cell_type": "code",
   "execution_count": null,
   "metadata": {},
   "outputs": [],
   "source": [
    "ggplot(data = concrete, mapping = aes(x = Cement, y = Compressive_Strength)) +\n",
    "  geom_point() +\n",
    "  geom_smooth(method = \"lm\")"
   ]
  },
  {
   "cell_type": "markdown",
   "metadata": {},
   "source": [
    "We should update our axis labels, using the `xlab` and `ylab` commands."
   ]
  },
  {
   "cell_type": "code",
   "execution_count": null,
   "metadata": {},
   "outputs": [],
   "source": [
    "ggplot(data = concrete, mapping = aes(x = Cement, y = Compressive_Strength)) +\n",
    "  geom_point() +\n",
    "  geom_smooth(method = \"lm\") +\n",
    "  ylab(\"Strength (MPa)\") +\n",
    "  xlab(\"Cement (kg/m3)\")"
   ]
  },
  {
   "cell_type": "markdown",
   "metadata": {},
   "source": [
    "Next, we will modify our code to change what we plot on the x-axis. In this case we want to plot Age on the x-axis. Update the code below to change the values we are plotting on the x-axis. _Hint_: you'll need to change the name of the variable passed to x on the first line, as well as the axis label on the last line."
   ]
  },
  {
   "cell_type": "code",
   "execution_count": null,
   "metadata": {},
   "outputs": [],
   "source": [
    "ggplot(data = concrete, mapping = aes(x = Cement, y = Compressive_Strength)) +\n",
    "  geom_point() +\n",
    "  geom_smooth(method = \"lm\") +\n",
    "  ylab(\"Strength (MPa)\") +\n",
    "  xlab(\"Cement (kg/m3)\")"
   ]
  },
  {
   "cell_type": "markdown",
   "metadata": {},
   "source": [
    "By default, it will add a linear regression line and confidence intervals. This does not look like a linear relationship (the compressive strength doesn't appear to increase continuously with age). Try a polynomial relationship by adding `formula = y ~ poly(x, degree = 4)` to the `geom_smooth` method (immediately following the method specification)."
   ]
  },
  {
   "cell_type": "code",
   "execution_count": null,
   "metadata": {},
   "outputs": [],
   "source": [
    "# Paste your code from above here, and update"
   ]
  },
  {
   "cell_type": "markdown",
   "metadata": {},
   "source": [
    "Maybe a little better, but a 4-order polynomial works best. Change the order specification, replacing the 2 with 4 in the `degree` argument of the `poly` command."
   ]
  },
  {
   "cell_type": "code",
   "execution_count": null,
   "metadata": {},
   "outputs": [],
   "source": [
    "# Paste your code from the previous code block and update"
   ]
  },
  {
   "cell_type": "markdown",
   "metadata": {},
   "source": [
    "To finish off this plot, we want to:\n",
    "\n",
    "1. Change the axis labels to include units in parentheses (days for age and MPa for compressive strength)\n",
    "2. Write the plot to a png file"
   ]
  },
  {
   "cell_type": "code",
   "execution_count": null,
   "metadata": {},
   "outputs": [],
   "source": [
    "# Replace \"Cement\" with \"Age\" in the line below\n",
    "age_plot <- ggplot(data = concrete, mapping = aes(x = Cement, y = Compressive_Strength)) +\n",
    "  geom_point() +\n",
    "  geom_smooth(method = \"lm\") +\n",
    "  ylab(\"Strength (MPa)\") +\n",
    "  xlab(\"Cement (kg/m3)\") # <---- update this axis label, too\n",
    "print(age_plot) # Prints to screen\n",
    "ggsave(file = \"age-strength-R.png\", plot = age_plot)"
   ]
  }
 ],
 "metadata": {
  "kernelspec": {
   "display_name": "R",
   "language": "R",
   "name": "ir"
  },
  "language_info": {
   "codemirror_mode": "r",
   "file_extension": ".r",
   "mimetype": "text/x-r-source",
   "name": "R",
   "pygments_lexer": "r",
   "version": "4.0.4"
  }
 },
 "nbformat": 4,
 "nbformat_minor": 4
}
