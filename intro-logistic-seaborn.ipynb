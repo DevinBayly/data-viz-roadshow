{
 "cells": [
  {
   "cell_type": "markdown",
   "metadata": {},
   "source": [
    "# Data Visualization in Python\n",
    "\n",
    "In this example, we will be plotting the rate of change in population size using the [logistic growth model](https://en.wikipedia.org/wiki/Logistic_function#In_ecology:_modeling_population_growth).\n",
    "\n",
    "We start by importing additional packages necessary for this visualization."
   ]
  },
  {
   "cell_type": "code",
   "execution_count": null,
   "metadata": {},
   "outputs": [],
   "source": [
    "import pandas as pd\n",
    "import seaborn\n",
    "import math\n",
    "\n",
    "print(\"Packages loaded!\")"
   ]
  },
  {
   "cell_type": "markdown",
   "metadata": {},
   "source": [
    "Next, we define our variables and create a data set. We will define the population size at time _t_ as _P(t)_:\n",
    "\n",
    "$\\LARGE P(t) = \\frac{K}{1 + (\\frac{K-P_0}{P_0})e^{-rt}}$\n",
    "\n",
    "Where the constant _r_ is the growth rate and the constant _K_ is the carrying capacity. The instantaneous rate of change in population size in relation to time is:\n",
    "\n",
    "$\\LARGE \\frac{dP}{dt} = rP(1 - \\frac{P}{K})$\n",
    "\n",
    "We want to plot the second equation, to display the relationship of _dP/dt_ (on the y-axis) to population size, _P_ (on the x-axis). We start by defining values and calculating our data. Ultimately, we want to illustrate at what population size is the instantaneous rate of change maximized."
   ]
  },
  {
   "cell_type": "code",
   "execution_count": null,
   "metadata": {},
   "outputs": [],
   "source": [
    "K = 100         # The carrying capacity (i.e. maximum population size)\n",
    "P0 = 1          # The staring population size\n",
    "r = 0.1         # The growth rate of the population\n",
    "t = range(101)  # list of time steps for this visualization\n",
    "\n",
    "# Set up a pandas data frame to hold our data\n",
    "growth_data = pd.DataFrame(t, columns = [\"t\"])\n",
    "\n",
    "# The model for calculating population size, P(t) at all time t values\n",
    "# Use it to make a new column in the data frame\n",
    "# P(t) = K / (1 + ((K - P0)/P0)*e^(-1 * r * t))\n",
    "pop_size = [K / (1 + ((K - P0)/P0) * math.exp(-1 * r * x)) for x in growth_data.t]\n",
    "growth_data[\"pop_size\"] = pop_size\n",
    "\n",
    "# The rate of population growth at each population size\n",
    "# dP/dt = r*Pt*(1 - Pt/K)\n",
    "growth_data[\"change_rate\"] = r * growth_data.pop_size * (1 - growth_data.pop_size/K)\n",
    "\n",
    "# Look at first few rows of data\n",
    "growth_data.head()"
   ]
  },
  {
   "cell_type": "markdown",
   "metadata": {},
   "source": [
    "We start by plotting the rate of change for values of population size."
   ]
  },
  {
   "cell_type": "code",
   "execution_count": null,
   "metadata": {},
   "outputs": [],
   "source": [
    "seaborn.lineplot(x = \"pop_size\", y = \"change_rate\", data = growth_data)"
   ]
  },
  {
   "cell_type": "markdown",
   "metadata": {},
   "source": [
    "We should update our axis labels, using the `set` command. Note here we also assigned the plot to a variable (`growth_plot`), so we could manipulate it."
   ]
  },
  {
   "cell_type": "code",
   "execution_count": null,
   "metadata": {},
   "outputs": [],
   "source": [
    "growth_plot = seaborn.lineplot(x = \"pop_size\", y = \"change_rate\", data = growth_data)\n",
    "growth_plot.set(xlabel = \"P(t)\", ylabel = \"dP/dt\")"
   ]
  },
  {
   "cell_type": "markdown",
   "metadata": {},
   "source": [
    "Next, we want to draw a vertical line at the point where the rate of change, _dP/dt_ is maximized. To figure this out, we _could_ do it mathematically (taking the second derivative), but we can also just look at our data to figure out where the value of _dP/dt_ is maximized."
   ]
  },
  {
   "cell_type": "code",
   "execution_count": null,
   "metadata": {},
   "outputs": [],
   "source": [
    "# Find the value of population size where the rate of change is highest\n",
    "pop_max_rate = growth_data.at[growth_data[\"change_rate\"].idxmax(), \"pop_size\"]\n",
    "pop_max_rate"
   ]
  },
  {
   "cell_type": "markdown",
   "metadata": {},
   "source": [
    "Hey, that's pretty close to the mathematical solution! Good for us. Now we can use that value with `axvline` to draw a vertical line."
   ]
  },
  {
   "cell_type": "code",
   "execution_count": null,
   "metadata": {},
   "outputs": [],
   "source": [
    "growth_plot = seaborn.lineplot(x = \"pop_size\", y = \"change_rate\", data = growth_data)\n",
    "growth_plot.set(xlabel = \"P(t)\", ylabel = \"dP/dt\")\n",
    "growth_plot.axvline(pop_max_rate, color = \"red\")"
   ]
  },
  {
   "cell_type": "markdown",
   "metadata": {},
   "source": [
    "To finish off this plot, we want to write the plot to a png file."
   ]
  },
  {
   "cell_type": "code",
   "execution_count": null,
   "metadata": {},
   "outputs": [],
   "source": [
    "# Saves the plot to growth-plot.png\n",
    "growth_plot.get_figure().savefig(\"output/growth-plot\")"
   ]
  },
  {
   "cell_type": "markdown",
   "metadata": {},
   "source": [
    "After updating and running this last block of code, you can click the Jupyter logo in the top-left part of this notebook to see files that you can download (including the one we just saved). You can open a new tab with this view by right-clicking or control-clicking the icon."
   ]
  }
 ],
 "metadata": {
  "kernelspec": {
   "display_name": "Python 3 (ipykernel)",
   "language": "python",
   "name": "python3"
  },
  "language_info": {
   "codemirror_mode": {
    "name": "ipython",
    "version": 3
   },
   "file_extension": ".py",
   "mimetype": "text/x-python",
   "name": "python",
   "nbconvert_exporter": "python",
   "pygments_lexer": "ipython3",
   "version": "3.10.6"
  }
 },
 "nbformat": 4,
 "nbformat_minor": 4
}
