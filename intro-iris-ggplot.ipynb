{
 "cells": [
  {
   "cell_type": "markdown",
   "metadata": {},
   "source": [
    "# Data Visualization in R\n",
    "\n",
    "In this example, we will be plotting two flower measurements of three _Iris_ species.\n",
    "\n",
    "We start by importing additional packages necessary for this visualization."
   ]
  },
  {
   "cell_type": "code",
   "execution_count": null,
   "metadata": {},
   "outputs": [],
   "source": [
    "library(\"ggplot2\")\n",
    "\n",
    "print(\"Libraries loaded!\")"
   ]
  },
  {
   "cell_type": "markdown",
   "metadata": {},
   "source": [
    "Next, we look at the first few rows of data."
   ]
  },
  {
   "cell_type": "code",
   "execution_count": null,
   "metadata": {},
   "outputs": [],
   "source": [
    "head(iris)"
   ]
  },
  {
   "cell_type": "markdown",
   "metadata": {},
   "source": [
    "Our first plot will be plotting the petal length vs. the sepal length. Using the ggplot method `geom_smooth`, it will automatically draw the line from linear regression."
   ]
  },
  {
   "cell_type": "code",
   "execution_count": null,
   "metadata": {},
   "outputs": [],
   "source": [
    "ggplot(data = iris, mapping = aes(x = Sepal.Length, y = Petal.Length)) +\n",
    "  geom_point() +\n",
    "  geom_smooth(method = \"lm\")"
   ]
  },
  {
   "cell_type": "markdown",
   "metadata": {},
   "source": [
    "We should update our axis labels, using the `xlab` and `ylab` commands."
   ]
  },
  {
   "cell_type": "code",
   "execution_count": null,
   "metadata": {},
   "outputs": [],
   "source": [
    "ggplot(data = iris, mapping = aes(x = Sepal.Length, y = Petal.Length)) +\n",
    "  geom_point() +\n",
    "  geom_smooth(method = \"lm\") +\n",
    "  ylab(\"Petal length (mm)\") +\n",
    "  xlab(\"Sepal length (mm)\")"
   ]
  },
  {
   "cell_type": "markdown",
   "metadata": {},
   "source": [
    "Next, we will modify our code to change what we plot on the x-axis. In this case we want to plot `Petal.Width` on the x-axis. Update the code below to change the values we are plotting on the x-axis. _Hint_: you'll need to change the name of the variable passed to x on the first line, as well as the axis label on the last line."
   ]
  },
  {
   "cell_type": "code",
   "execution_count": null,
   "metadata": {},
   "outputs": [],
   "source": [
    "ggplot(data = iris, mapping = aes(x = Sepal.Length, y = Petal.Length)) +\n",
    "  geom_point() +\n",
    "  geom_smooth(method = \"lm\") +\n",
    "  ylab(\"Petal length (mm)\") +\n",
    "  xlab(\"Sepal length (mm)\")"
   ]
  },
  {
   "cell_type": "markdown",
   "metadata": {},
   "source": [
    "By default, it will add a linear regression line and confidence intervals. But remember, these are data for three species of _Iris_, so it would be more informative to display which species each point corresponds to. We can do this by adding `color = \"Species\"` to the `aes` method (immediately following `y = Petal.Length`)."
   ]
  },
  {
   "cell_type": "code",
   "execution_count": null,
   "metadata": {},
   "outputs": [],
   "source": [
    "# Paste your code from above here, and update\n",
    "ggplot(data = iris, mapping = aes(x = Petal.Width, y = Petal.Length, color = Species)) +\n",
    "  geom_point() +\n",
    "  geom_smooth(method = \"lm\") +\n",
    "  ylab(\"Petal length (mm)\") +\n",
    "  xlab(\"Sepal length (mm)\")"
   ]
  },
  {
   "cell_type": "markdown",
   "metadata": {},
   "source": [
    "To finish off this plot, we want to write the plot to a png file. Paste the code from above and run the cell."
   ]
  },
  {
   "cell_type": "code",
   "execution_count": null,
   "metadata": {},
   "outputs": [],
   "source": [
    "# Paste your plotting code here:\n",
    "\n",
    "# Leave the next line as-is\n",
    "ggsave(file = \"output/iris-plot.png\")"
   ]
  }
 ],
 "metadata": {
  "kernelspec": {
   "display_name": "R",
   "language": "R",
   "name": "ir"
  },
  "language_info": {
   "codemirror_mode": "r",
   "file_extension": ".r",
   "mimetype": "text/x-r-source",
   "name": "R",
   "pygments_lexer": "r",
   "version": "4.1.1"
  }
 },
 "nbformat": 4,
 "nbformat_minor": 4
}
