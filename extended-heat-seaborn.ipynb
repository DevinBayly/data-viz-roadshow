{
 "cells": [
  {
   "cell_type": "markdown",
   "metadata": {},
   "source": [
    "# Data Viz Intro\n",
    "\n",
    "Welcome to our presentation! We will be learning about some theory and principles of data visualization that will enable you to better leverage visualization libraries available in Python and R"
   ]
  },
  {
   "cell_type": "markdown",
   "metadata": {},
   "source": [
    "### Introductory Section"
   ]
  },
  {
   "cell_type": "code",
   "execution_count": 2,
   "metadata": {},
   "outputs": [
    {
     "data": {
      "text/html": [
       "<iframe src=\"https://docs.google.com/presentation/d/e/2PACX-1vRrJokBMohWj0oLmUkPM3SPZO4dKnNKko1nUzoXujuVdhDnJunHl2HPbq_EgAFeBQ/embed?start=false&loop=false&slide=id.p1\" frameborder=\"0\" width=\"100%\" height=\"569\" allowfullscreen=\"true\" mozallowfullscreen=\"true\" webkitallowfullscreen=\"true\"></iframe>\n"
      ],
      "text/plain": [
       "<IPython.core.display.HTML object>"
      ]
     },
     "metadata": {},
     "output_type": "display_data"
    }
   ],
   "source": [
    "%%html\n",
    "<iframe src=\"https://docs.google.com/presentation/d/e/2PACX-1vRrJokBMohWj0oLmUkPM3SPZO4dKnNKko1nUzoXujuVdhDnJunHl2HPbq_EgAFeBQ/embed?start=false&loop=false&slide=id.p1\" frameborder=\"0\" width=\"100%\" height=\"569\" allowfullscreen=\"true\" mozallowfullscreen=\"true\" webkitallowfullscreen=\"true\"></iframe>"
   ]
  },
  {
   "cell_type": "markdown",
   "metadata": {},
   "source": [
    "## Exploring Voyager and Raw Graphs\n",
    "Now that we have experimented a bit with visualizations by hand, and critiqued a few, it's time to work with some programmatic visualization systems available. For this section please visit https://tinyurl.com/25h699h2 and download the csv. We will then take some time to explore \n",
    "\n",
    "* [Voyager](https://vega.github.io/voyager/)\n",
    "* [Raw Graphs](https://www.rawgraphs.io/)\n"
   ]
  },
  {
   "cell_type": "code",
   "execution_count": 4,
   "metadata": {},
   "outputs": [
    {
     "data": {
      "text/html": [
       "<iframe src=\"https://docs.google.com/presentation/d/e/2PACX-1vRrJokBMohWj0oLmUkPM3SPZO4dKnNKko1nUzoXujuVdhDnJunHl2HPbq_EgAFeBQ/embed?start=false&loop=false&slide=id.g257a93d3aef_1_67\" frameborder=\"0\" width=\"100%\" height=\"569\" allowfullscreen=\"true\" mozallowfullscreen=\"true\" webkitallowfullscreen=\"true\"></iframe>\n"
      ],
      "text/plain": [
       "<IPython.core.display.HTML object>"
      ]
     },
     "metadata": {},
     "output_type": "display_data"
    }
   ],
   "source": [
    "%%html\n",
    "<iframe src=\"https://docs.google.com/presentation/d/e/2PACX-1vRrJokBMohWj0oLmUkPM3SPZO4dKnNKko1nUzoXujuVdhDnJunHl2HPbq_EgAFeBQ/embed?start=false&loop=false&slide=id.g257a93d3aef_1_67\" frameborder=\"0\" width=\"100%\" height=\"569\" allowfullscreen=\"true\" mozallowfullscreen=\"true\" webkitallowfullscreen=\"true\"></iframe>"
   ]
  },
  {
   "cell_type": "markdown",
   "metadata": {},
   "source": [
    "## Data Visualization in Python\n",
    "\n",
    "Visualization tools like Voyager and Raw Graphs are great for \"Thinking Visually\" and prototyping. When visualizing data it often is important to work with a programming language because data often needs steps to be taken before visualizing that are easy to apply in a programmatic fashion. The visualization capabilities of a language are also much greater than an individual web tool can provide. Let's get started using python for plotting some of our data.\n",
    "\n",
    "In this example, we will be plotting temperature data for the first day of summer in Tucson, Arizona.\n",
    "\n",
    "We start by importing additional packages necessary for this visualization."
   ]
  },
  {
   "cell_type": "code",
   "execution_count": null,
   "metadata": {},
   "outputs": [],
   "source": [
    "import pandas\n",
    "import seaborn\n",
    "\n",
    "print(\"Packages loaded!\")"
   ]
  },
  {
   "cell_type": "markdown",
   "metadata": {},
   "source": [
    "Next, we load data and look at the first few rows."
   ]
  },
  {
   "cell_type": "code",
   "execution_count": null,
   "metadata": {},
   "outputs": [],
   "source": [
    "tucson = pandas.read_csv(\"data/tucson-summer.csv\")\n",
    "tucson.head()"
   ]
  },
  {
   "cell_type": "markdown",
   "metadata": {},
   "source": [
    "Our first plot will be plotting the daily minimum temperature of the summer solstice over time. Using the seaborn method `regplot`, it will automatically draw the line from linear regression."
   ]
  },
  {
   "cell_type": "code",
   "execution_count": null,
   "metadata": {},
   "outputs": [],
   "source": [
    "seaborn.regplot(x = \"year\", y = \"tmin\", data = tucson)"
   ]
  },
  {
   "cell_type": "markdown",
   "metadata": {},
   "source": [
    "We should update our axis labels, using the `set` command. Note here we also assigned the plot to a variable (`tucson_plot`), so we could manipulate it."
   ]
  },
  {
   "cell_type": "code",
   "execution_count": null,
   "metadata": {},
   "outputs": [],
   "source": [
    "tucson_plot = seaborn.regplot(x = \"year\", y = \"tmin\", data = tucson)\n",
    "tucson_plot.set(ylabel = \"Miniumum temperature (F)\")"
   ]
  },
  {
   "cell_type": "markdown",
   "metadata": {},
   "source": [
    "Next, we will modify our code to change what we plot on the y-axis. In this case we want to plot the maximum temperature (`tmax`) on the y-axis. Update the code below to change the values we are plotting on the y-axis."
   ]
  },
  {
   "cell_type": "code",
   "execution_count": null,
   "metadata": {},
   "outputs": [],
   "source": [
    "tucson_plot = seaborn.regplot(x = \"year\", y = \"tmin\", data = tucson)\n",
    "tucson_plot.set(ylabel = \"Miniumum temperature (F)\")"
   ]
  },
  {
   "cell_type": "markdown",
   "metadata": {},
   "source": [
    "By default, it will add a linear regression line and confidence intervals. This may not be a linear relationship - try a polynomial relationship by adding `order = 2` to the `regplot` method (immediately following the data specification)."
   ]
  },
  {
   "cell_type": "code",
   "execution_count": null,
   "metadata": {},
   "outputs": [],
   "source": [
    "# Paste your code from above here, and update"
   ]
  },
  {
   "cell_type": "markdown",
   "metadata": {},
   "source": [
    "To finish off this plot, we want to write the plot to a png file."
   ]
  },
  {
   "cell_type": "code",
   "execution_count": null,
   "metadata": {},
   "outputs": [],
   "source": [
    "tucson_plot = # Copy and paste the plot code from the code block above\n",
    "\n",
    "# Leave this line as is\n",
    "tucson_plot.get_figure().savefig(\"output/tucson-plot.png\")"
   ]
  },
  {
   "cell_type": "markdown",
   "metadata": {},
   "source": [
    "After updating and running this last block of code, you can click the Jupyter logo in the top-left part of this notebook to see files that you can download (including the one we just saved). You can open a new tab with this view by right-clicking or control-clicking the icon."
   ]
  },
  {
   "cell_type": "markdown",
   "metadata": {},
   "source": [
    "## What How Why\n",
    "### Important general principles in visualization\n",
    "\n",
    "The following section of the presentation is based on slides from [Dr. Joshua Levine](https://jalevine.bitbucket.io/) (University of Arizona), and ideas from [Dr. Tamara Munzner](https://www.cs.ubc.ca/~tmm/) (University of British Columbia)."
   ]
  },
  {
   "cell_type": "code",
   "execution_count": 12,
   "metadata": {},
   "outputs": [
    {
     "data": {
      "text/html": [
       "<iframe src=\"https://docs.google.com/presentation/d/e/2PACX-1vSPDaygXMyuS_h0DLZb0-xfjkbTYVttXfb7u4SkbLAvpys3pEKMnothjKz6wMLpvw/embed?start=false&loop=false&delayms=3000&slide=id.g293948eab5e_0_0\" frameborder=\"0\" width=\"100%\" height=\"569\" allowfullscreen=\"true\" mozallowfullscreen=\"true\" webkitallowfullscreen=\"true\"></iframe>\n"
      ],
      "text/plain": [
       "<IPython.core.display.HTML object>"
      ]
     },
     "metadata": {},
     "output_type": "display_data"
    }
   ],
   "source": [
    "%%html\n",
    "<iframe src=\"https://docs.google.com/presentation/d/e/2PACX-1vSPDaygXMyuS_h0DLZb0-xfjkbTYVttXfb7u4SkbLAvpys3pEKMnothjKz6wMLpvw/embed?start=false&loop=false&delayms=3000&slide=id.g293948eab5e_0_0\" frameborder=\"0\" width=\"100%\" height=\"569\" allowfullscreen=\"true\" mozallowfullscreen=\"true\" webkitallowfullscreen=\"true\"></iframe>"
   ]
  },
  {
   "cell_type": "markdown",
   "metadata": {},
   "source": [
    "### Practice Identifying Data Attribute types\n",
    "\n",
    "In the cells below please load a dataframe of our arizona cities temperatures. Then form guesses about which columns are \n",
    "\n",
    "* Categorical\n",
    "* Ordinal\n",
    "* Quantitative\n",
    "\n",
    "Identifying the attribute type is often the starting point for the visualization process."
   ]
  },
  {
   "cell_type": "code",
   "execution_count": 14,
   "metadata": {},
   "outputs": [
    {
     "data": {
      "text/html": [
       "<div>\n",
       "<style scoped>\n",
       "    .dataframe tbody tr th:only-of-type {\n",
       "        vertical-align: middle;\n",
       "    }\n",
       "\n",
       "    .dataframe tbody tr th {\n",
       "        vertical-align: top;\n",
       "    }\n",
       "\n",
       "    .dataframe thead th {\n",
       "        text-align: right;\n",
       "    }\n",
       "</style>\n",
       "<table border=\"1\" class=\"dataframe\">\n",
       "  <thead>\n",
       "    <tr style=\"text-align: right;\">\n",
       "      <th></th>\n",
       "      <th>Unnamed: 0.1</th>\n",
       "      <th>Unnamed: 0</th>\n",
       "      <th>Date</th>\n",
       "      <th>tmax</th>\n",
       "      <th>tmin</th>\n",
       "      <th>prcp</th>\n",
       "      <th>id</th>\n",
       "      <th>year</th>\n",
       "      <th>month</th>\n",
       "      <th>day</th>\n",
       "      <th>names</th>\n",
       "      <th>Lats</th>\n",
       "      <th>Lons</th>\n",
       "    </tr>\n",
       "  </thead>\n",
       "  <tbody>\n",
       "    <tr>\n",
       "      <th>0</th>\n",
       "      <td>171</td>\n",
       "      <td>172</td>\n",
       "      <td>1895-06-21</td>\n",
       "      <td>104.0</td>\n",
       "      <td>58.0</td>\n",
       "      <td>0.00</td>\n",
       "      <td>USW00023160</td>\n",
       "      <td>1895</td>\n",
       "      <td>6</td>\n",
       "      <td>21</td>\n",
       "      <td>Tucson</td>\n",
       "      <td>32.1314</td>\n",
       "      <td>-112.0039</td>\n",
       "    </tr>\n",
       "    <tr>\n",
       "      <th>1</th>\n",
       "      <td>537</td>\n",
       "      <td>538</td>\n",
       "      <td>1896-06-21</td>\n",
       "      <td>102.0</td>\n",
       "      <td>75.0</td>\n",
       "      <td>0.00</td>\n",
       "      <td>USW00023160</td>\n",
       "      <td>1896</td>\n",
       "      <td>6</td>\n",
       "      <td>21</td>\n",
       "      <td>Tucson</td>\n",
       "      <td>32.1314</td>\n",
       "      <td>-112.0039</td>\n",
       "    </tr>\n",
       "    <tr>\n",
       "      <th>2</th>\n",
       "      <td>902</td>\n",
       "      <td>903</td>\n",
       "      <td>1897-06-21</td>\n",
       "      <td>105.0</td>\n",
       "      <td>73.0</td>\n",
       "      <td>0.00</td>\n",
       "      <td>USW00023160</td>\n",
       "      <td>1897</td>\n",
       "      <td>6</td>\n",
       "      <td>21</td>\n",
       "      <td>Tucson</td>\n",
       "      <td>32.1314</td>\n",
       "      <td>-112.0039</td>\n",
       "    </tr>\n",
       "    <tr>\n",
       "      <th>3</th>\n",
       "      <td>1267</td>\n",
       "      <td>1268</td>\n",
       "      <td>1898-06-21</td>\n",
       "      <td>94.0</td>\n",
       "      <td>75.0</td>\n",
       "      <td>0.03</td>\n",
       "      <td>USW00023160</td>\n",
       "      <td>1898</td>\n",
       "      <td>6</td>\n",
       "      <td>21</td>\n",
       "      <td>Tucson</td>\n",
       "      <td>32.1314</td>\n",
       "      <td>-112.0039</td>\n",
       "    </tr>\n",
       "    <tr>\n",
       "      <th>4</th>\n",
       "      <td>1632</td>\n",
       "      <td>1633</td>\n",
       "      <td>1899-06-21</td>\n",
       "      <td>101.0</td>\n",
       "      <td>71.0</td>\n",
       "      <td>0.00</td>\n",
       "      <td>USW00023160</td>\n",
       "      <td>1899</td>\n",
       "      <td>6</td>\n",
       "      <td>21</td>\n",
       "      <td>Tucson</td>\n",
       "      <td>32.1314</td>\n",
       "      <td>-112.0039</td>\n",
       "    </tr>\n",
       "    <tr>\n",
       "      <th>...</th>\n",
       "      <td>...</td>\n",
       "      <td>...</td>\n",
       "      <td>...</td>\n",
       "      <td>...</td>\n",
       "      <td>...</td>\n",
       "      <td>...</td>\n",
       "      <td>...</td>\n",
       "      <td>...</td>\n",
       "      <td>...</td>\n",
       "      <td>...</td>\n",
       "      <td>...</td>\n",
       "      <td>...</td>\n",
       "      <td>...</td>\n",
       "    </tr>\n",
       "    <tr>\n",
       "      <th>371</th>\n",
       "      <td>43270</td>\n",
       "      <td>43271</td>\n",
       "      <td>2017-06-21</td>\n",
       "      <td>92.0</td>\n",
       "      <td>54.0</td>\n",
       "      <td>0.00</td>\n",
       "      <td>USW00003103</td>\n",
       "      <td>2017</td>\n",
       "      <td>6</td>\n",
       "      <td>21</td>\n",
       "      <td>Flagstaff</td>\n",
       "      <td>35.1442</td>\n",
       "      <td>-87.5997</td>\n",
       "    </tr>\n",
       "    <tr>\n",
       "      <th>372</th>\n",
       "      <td>43635</td>\n",
       "      <td>43636</td>\n",
       "      <td>2018-06-21</td>\n",
       "      <td>91.0</td>\n",
       "      <td>45.0</td>\n",
       "      <td>0.00</td>\n",
       "      <td>USW00003103</td>\n",
       "      <td>2018</td>\n",
       "      <td>6</td>\n",
       "      <td>21</td>\n",
       "      <td>Flagstaff</td>\n",
       "      <td>35.1442</td>\n",
       "      <td>-87.5997</td>\n",
       "    </tr>\n",
       "    <tr>\n",
       "      <th>373</th>\n",
       "      <td>44000</td>\n",
       "      <td>44001</td>\n",
       "      <td>2019-06-21</td>\n",
       "      <td>73.0</td>\n",
       "      <td>44.1</td>\n",
       "      <td>0.00</td>\n",
       "      <td>USW00003103</td>\n",
       "      <td>2019</td>\n",
       "      <td>6</td>\n",
       "      <td>21</td>\n",
       "      <td>Flagstaff</td>\n",
       "      <td>35.1442</td>\n",
       "      <td>-87.5997</td>\n",
       "    </tr>\n",
       "    <tr>\n",
       "      <th>374</th>\n",
       "      <td>44366</td>\n",
       "      <td>44367</td>\n",
       "      <td>2020-06-21</td>\n",
       "      <td>84.9</td>\n",
       "      <td>48.9</td>\n",
       "      <td>0.00</td>\n",
       "      <td>USW00003103</td>\n",
       "      <td>2020</td>\n",
       "      <td>6</td>\n",
       "      <td>21</td>\n",
       "      <td>Flagstaff</td>\n",
       "      <td>35.1442</td>\n",
       "      <td>-87.5997</td>\n",
       "    </tr>\n",
       "    <tr>\n",
       "      <th>375</th>\n",
       "      <td>44731</td>\n",
       "      <td>44732</td>\n",
       "      <td>2021-06-21</td>\n",
       "      <td>84.0</td>\n",
       "      <td>53.1</td>\n",
       "      <td>0.00</td>\n",
       "      <td>USW00003103</td>\n",
       "      <td>2021</td>\n",
       "      <td>6</td>\n",
       "      <td>21</td>\n",
       "      <td>Flagstaff</td>\n",
       "      <td>35.1442</td>\n",
       "      <td>-87.5997</td>\n",
       "    </tr>\n",
       "  </tbody>\n",
       "</table>\n",
       "<p>376 rows × 13 columns</p>\n",
       "</div>"
      ],
      "text/plain": [
       "     Unnamed: 0.1  Unnamed: 0        Date   tmax  tmin  prcp           id  \\\n",
       "0             171         172  1895-06-21  104.0  58.0  0.00  USW00023160   \n",
       "1             537         538  1896-06-21  102.0  75.0  0.00  USW00023160   \n",
       "2             902         903  1897-06-21  105.0  73.0  0.00  USW00023160   \n",
       "3            1267        1268  1898-06-21   94.0  75.0  0.03  USW00023160   \n",
       "4            1632        1633  1899-06-21  101.0  71.0  0.00  USW00023160   \n",
       "..            ...         ...         ...    ...   ...   ...          ...   \n",
       "371         43270       43271  2017-06-21   92.0  54.0  0.00  USW00003103   \n",
       "372         43635       43636  2018-06-21   91.0  45.0  0.00  USW00003103   \n",
       "373         44000       44001  2019-06-21   73.0  44.1  0.00  USW00003103   \n",
       "374         44366       44367  2020-06-21   84.9  48.9  0.00  USW00003103   \n",
       "375         44731       44732  2021-06-21   84.0  53.1  0.00  USW00003103   \n",
       "\n",
       "     year  month  day      names     Lats      Lons  \n",
       "0    1895      6   21     Tucson  32.1314 -112.0039  \n",
       "1    1896      6   21     Tucson  32.1314 -112.0039  \n",
       "2    1897      6   21     Tucson  32.1314 -112.0039  \n",
       "3    1898      6   21     Tucson  32.1314 -112.0039  \n",
       "4    1899      6   21     Tucson  32.1314 -112.0039  \n",
       "..    ...    ...  ...        ...      ...       ...  \n",
       "371  2017      6   21  Flagstaff  35.1442  -87.5997  \n",
       "372  2018      6   21  Flagstaff  35.1442  -87.5997  \n",
       "373  2019      6   21  Flagstaff  35.1442  -87.5997  \n",
       "374  2020      6   21  Flagstaff  35.1442  -87.5997  \n",
       "375  2021      6   21  Flagstaff  35.1442  -87.5997  \n",
       "\n",
       "[376 rows x 13 columns]"
      ]
     },
     "execution_count": 14,
     "metadata": {},
     "output_type": "execute_result"
    }
   ],
   "source": [
    "import pandas as pd\n",
    "csv_path = \"data/arizona-heat.csv\"\n",
    "df = pd.read_csv(csv_path)\n",
    "df"
   ]
  },
  {
   "cell_type": "markdown",
   "metadata": {},
   "source": [
    "Write your guesses as comma separated strings in each list below. For example `\"id\"` is being identified as a categorical attribute type column. "
   ]
  },
  {
   "cell_type": "code",
   "execution_count": 17,
   "metadata": {},
   "outputs": [
    {
     "name": "stdout",
     "output_type": "stream",
     "text": [
      "categorical data\n",
      "              id\n",
      "0    USW00023160\n",
      "1    USW00023160\n",
      "2    USW00023160\n",
      "3    USW00023160\n",
      "4    USW00023160\n",
      "..           ...\n",
      "371  USW00003103\n",
      "372  USW00003103\n",
      "373  USW00003103\n",
      "374  USW00003103\n",
      "375  USW00003103\n",
      "\n",
      "[376 rows x 1 columns]\n",
      "ordinal data\n",
      "Empty DataFrame\n",
      "Columns: []\n",
      "Index: [0, 1, 2, 3, 4, 5, 6, 7, 8, 9, 10, 11, 12, 13, 14, 15, 16, 17, 18, 19, 20, 21, 22, 23, 24, 25, 26, 27, 28, 29, 30, 31, 32, 33, 34, 35, 36, 37, 38, 39, 40, 41, 42, 43, 44, 45, 46, 47, 48, 49, 50, 51, 52, 53, 54, 55, 56, 57, 58, 59, 60, 61, 62, 63, 64, 65, 66, 67, 68, 69, 70, 71, 72, 73, 74, 75, 76, 77, 78, 79, 80, 81, 82, 83, 84, 85, 86, 87, 88, 89, 90, 91, 92, 93, 94, 95, 96, 97, 98, 99, ...]\n",
      "\n",
      "[376 rows x 0 columns]\n",
      "quantitative data\n",
      "Empty DataFrame\n",
      "Columns: []\n",
      "Index: [0, 1, 2, 3, 4, 5, 6, 7, 8, 9, 10, 11, 12, 13, 14, 15, 16, 17, 18, 19, 20, 21, 22, 23, 24, 25, 26, 27, 28, 29, 30, 31, 32, 33, 34, 35, 36, 37, 38, 39, 40, 41, 42, 43, 44, 45, 46, 47, 48, 49, 50, 51, 52, 53, 54, 55, 56, 57, 58, 59, 60, 61, 62, 63, 64, 65, 66, 67, 68, 69, 70, 71, 72, 73, 74, 75, 76, 77, 78, 79, 80, 81, 82, 83, 84, 85, 86, 87, 88, 89, 90, 91, 92, 93, 94, 95, 96, 97, 98, 99, ...]\n",
      "\n",
      "[376 rows x 0 columns]\n"
     ]
    }
   ],
   "source": [
    "categorical_columns = [\"id\"]\n",
    "ordinal_columns = []\n",
    "quantitative_columns = []\n",
    "\n",
    "print(\"categorical data\")\n",
    "print(df[categorical_columns])\n",
    "\n",
    "print(\"ordinal data\")\n",
    "print(df[ordinal_columns])\n",
    "\n",
    "print(\"quantitative data\")\n",
    "print(df[quantitative_columns])\n"
   ]
  },
  {
   "cell_type": "markdown",
   "metadata": {},
   "source": [
    "### Conceptual Models & Data Models"
   ]
  },
  {
   "cell_type": "code",
   "execution_count": 18,
   "metadata": {},
   "outputs": [
    {
     "data": {
      "text/html": [
       "<iframe src=\"https://docs.google.com/presentation/d/e/2PACX-1vSPDaygXMyuS_h0DLZb0-xfjkbTYVttXfb7u4SkbLAvpys3pEKMnothjKz6wMLpvw/embed?start=false&loop=false&delayms=3000&slide=id.g2941087898c_2_76\" frameborder=\"0\" width=\"100%\" height=\"569\" allowfullscreen=\"true\" mozallowfullscreen=\"true\" webkitallowfullscreen=\"true\"></iframe>\n",
       "\n"
      ],
      "text/plain": [
       "<IPython.core.display.HTML object>"
      ]
     },
     "metadata": {},
     "output_type": "display_data"
    }
   ],
   "source": [
    "%%html\n",
    "<iframe src=\"https://docs.google.com/presentation/d/e/2PACX-1vSPDaygXMyuS_h0DLZb0-xfjkbTYVttXfb7u4SkbLAvpys3pEKMnothjKz6wMLpvw/embed?start=false&loop=false&delayms=3000&slide=id.g2941087898c_2_76\" frameborder=\"0\" width=\"100%\" height=\"569\" allowfullscreen=\"true\" mozallowfullscreen=\"true\" webkitallowfullscreen=\"true\"></iframe>"
   ]
  },
  {
   "cell_type": "markdown",
   "metadata": {},
   "source": [
    "In the space below this exercise here fill out your guesses about the data model and the conceptual model in play for slide 23\n",
    "\n",
    "* Data Model:\n",
    "* Conceptual Model:\n",
    "* Attribute Type:\n"
   ]
  },
  {
   "cell_type": "markdown",
   "metadata": {},
   "source": [
    "## How: Visual Encoding\n",
    "\n",
    "Here we will discuss in general the types of options available to pair your data and it's attribute types with visual primitives common to all plottling libraries."
   ]
  },
  {
   "cell_type": "code",
   "execution_count": 19,
   "metadata": {},
   "outputs": [
    {
     "data": {
      "text/html": [
       "<iframe src=\"https://docs.google.com/presentation/d/e/2PACX-1vSPDaygXMyuS_h0DLZb0-xfjkbTYVttXfb7u4SkbLAvpys3pEKMnothjKz6wMLpvw/embed?start=false&loop=false&delayms=3000&slide=id.g294755a5a36_1_4\" frameborder=\"0\" width=\"100%\" height=\"569\" allowfullscreen=\"true\" mozallowfullscreen=\"true\" webkitallowfullscreen=\"true\"></iframe>\n"
      ],
      "text/plain": [
       "<IPython.core.display.HTML object>"
      ]
     },
     "metadata": {},
     "output_type": "display_data"
    }
   ],
   "source": [
    "%%html\n",
    "<iframe src=\"https://docs.google.com/presentation/d/e/2PACX-1vSPDaygXMyuS_h0DLZb0-xfjkbTYVttXfb7u4SkbLAvpys3pEKMnothjKz6wMLpvw/embed?start=false&loop=false&delayms=3000&slide=id.g294755a5a36_1_4\" frameborder=\"0\" width=\"100%\" height=\"569\" allowfullscreen=\"true\" mozallowfullscreen=\"true\" webkitallowfullscreen=\"true\"></iframe>"
   ]
  },
  {
   "cell_type": "markdown",
   "metadata": {},
   "source": [
    "For each plot (1-4) on slide 29, list out what marks and channels you believe are in use\n",
    "\n",
    "* 1\n",
    "    * Marks\n",
    "    * Channels\n",
    "* 2\n",
    "    * Marks\n",
    "    * Channels\n",
    "* 3\n",
    "    * Marks\n",
    "    * Channels\n",
    "* 4\n",
    "    * Marks\n",
    "    * Channels\n",
    "  "
   ]
  },
  {
   "cell_type": "markdown",
   "metadata": {},
   "source": [
    "## Why: Task Asbtraction and Action Target Pairs\n",
    "\n",
    "Now that we have a understanding of general categories of data, and how to connect them with visual primitives lets talk about how to frame the objectives that a visualization is meant to support. These objectives are often referred to as **\"Tasks\"** that a viewer is meant to accomplish via the visualization.\n",
    "\n",
    "Dr. Tamara Munzner put forward an abstraction of Tasks, that they are made up of two parts: an Action and Target. Together these form a Pair, and giving these some thought is often helpful in organizing our thinking when developing a visualization. "
   ]
  },
  {
   "cell_type": "code",
   "execution_count": 20,
   "metadata": {},
   "outputs": [
    {
     "data": {
      "text/html": [
       "<iframe src=\"https://docs.google.com/presentation/d/e/2PACX-1vSPDaygXMyuS_h0DLZb0-xfjkbTYVttXfb7u4SkbLAvpys3pEKMnothjKz6wMLpvw/embed?start=false&loop=false&delayms=3000&slide=id.g2941087898c_2_132\" frameborder=\"0\" width=\"100%\" height=\"569\" allowfullscreen=\"true\" mozallowfullscreen=\"true\" webkitallowfullscreen=\"true\"></iframe>\n"
      ],
      "text/plain": [
       "<IPython.core.display.HTML object>"
      ]
     },
     "metadata": {},
     "output_type": "display_data"
    }
   ],
   "source": [
    "%%html\n",
    "<iframe src=\"https://docs.google.com/presentation/d/e/2PACX-1vSPDaygXMyuS_h0DLZb0-xfjkbTYVttXfb7u4SkbLAvpys3pEKMnothjKz6wMLpvw/embed?start=false&loop=false&delayms=3000&slide=id.g2941087898c_2_132\" frameborder=\"0\" width=\"100%\" height=\"569\" allowfullscreen=\"true\" mozallowfullscreen=\"true\" webkitallowfullscreen=\"true\"></iframe>"
   ]
  },
  {
   "cell_type": "markdown",
   "metadata": {},
   "source": [
    "See if you can identify some of the tasks that this visualization above (slide 36) was made to accomplish. Write them out using the categories of Action Target pairs below. One example is provided below to get you started. Also if you're feeling constrained, just write the task normally, and then see if there are actions and targets that come to you after. \n",
    "\n",
    "* Task 1:\n",
    "    * A viewer might be interested in identifying the high and low temperatures for a day in Tucson\n",
    "    * Action: Explore\n",
    "    * Target: Outliers"
   ]
  },
  {
   "cell_type": "markdown",
   "metadata": {},
   "source": [
    "## Getting more hands on with the data \n",
    "\n",
    "At this point in the presentation we would like you to now go through the visualization design process using either of the csv's provided. \n",
    "\n",
    "Try to form a statement about both the **what** and the **why** (either one first).\n",
    "\n",
    "Then either brainstorm with hand drawings, voyager or raw graphs. Once you have completed this attempt to break the visualization down into marks and channels that are at play."
   ]
  },
  {
   "cell_type": "code",
   "execution_count": null,
   "metadata": {},
   "outputs": [],
   "source": []
  },
  {
   "cell_type": "markdown",
   "metadata": {},
   "source": [
    "## Final Section\n",
    "### Additional considerations for visualization, and Community Events"
   ]
  },
  {
   "cell_type": "code",
   "execution_count": 23,
   "metadata": {},
   "outputs": [
    {
     "data": {
      "text/html": [
       "<iframe src=\"https://docs.google.com/presentation/d/e/2PACX-1vSPDaygXMyuS_h0DLZb0-xfjkbTYVttXfb7u4SkbLAvpys3pEKMnothjKz6wMLpvw/embed?start=false&loop=false&delayms=3000&slide=id.p16\" frameborder=\"0\" width=\"100%\" height=\"569\" allowfullscreen=\"true\" mozallowfullscreen=\"true\" webkitallowfullscreen=\"true\"></iframe>\n"
      ],
      "text/plain": [
       "<IPython.core.display.HTML object>"
      ]
     },
     "metadata": {},
     "output_type": "display_data"
    }
   ],
   "source": [
    "%%html\n",
    "<iframe src=\"https://docs.google.com/presentation/d/e/2PACX-1vSPDaygXMyuS_h0DLZb0-xfjkbTYVttXfb7u4SkbLAvpys3pEKMnothjKz6wMLpvw/embed?start=false&loop=false&delayms=3000&slide=id.p16\" frameborder=\"0\" width=\"100%\" height=\"569\" allowfullscreen=\"true\" mozallowfullscreen=\"true\" webkitallowfullscreen=\"true\"></iframe>\n"
   ]
  }
 ],
 "metadata": {
  "kernelspec": {
   "display_name": "Python 3 (ipykernel)",
   "language": "python",
   "name": "python3"
  },
  "language_info": {
   "codemirror_mode": {
    "name": "ipython",
    "version": 3
   },
   "file_extension": ".py",
   "mimetype": "text/x-python",
   "name": "python",
   "nbconvert_exporter": "python",
   "pygments_lexer": "ipython3",
   "version": "3.11.4"
  }
 },
 "nbformat": 4,
 "nbformat_minor": 4
}
