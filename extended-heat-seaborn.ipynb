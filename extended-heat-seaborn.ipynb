{
 "cells": [
  {
   "cell_type": "markdown",
   "metadata": {},
   "source": [
    "# Data Viz Intro\n",
    "\n",
    "Welcome to our presentation! We will be learning about some theory and principles of data visualization that will enable you to better leverage visualization libraries available in Python and R"
   ]
  },
  {
   "cell_type": "code",
   "execution_count": 1,
   "metadata": {},
   "outputs": [
    {
     "data": {
      "text/html": [
       "<iframe src=\"https://docs.google.com/presentation/d/e/2PACX-1vRrJokBMohWj0oLmUkPM3SPZO4dKnNKko1nUzoXujuVdhDnJunHl2HPbq_EgAFeBQ/embed?start=false&loop=false&slide=id.p1\" frameborder=\"0\" width=\"960\" height=\"569\" allowfullscreen=\"true\" mozallowfullscreen=\"true\" webkitallowfullscreen=\"true\"></iframe>\n"
      ],
      "text/plain": [
       "<IPython.core.display.HTML object>"
      ]
     },
     "metadata": {},
     "output_type": "display_data"
    }
   ],
   "source": [
    "%%html\n",
    "<iframe src=\"https://docs.google.com/presentation/d/e/2PACX-1vRrJokBMohWj0oLmUkPM3SPZO4dKnNKko1nUzoXujuVdhDnJunHl2HPbq_EgAFeBQ/embed?start=false&loop=false&slide=id.p1\" frameborder=\"0\" width=\"960\" height=\"569\" allowfullscreen=\"true\" mozallowfullscreen=\"true\" webkitallowfullscreen=\"true\"></iframe>"
   ]
  },
  {
   "cell_type": "markdown",
   "metadata": {},
   "source": [
    "## Data Visualization in Python\n",
    "\n",
    "In this example, we will be plotting temperature data for the first day of summer in Tucson, Arizona.\n",
    "\n",
    "We start by importing additional packages necessary for this visualization."
   ]
  },
  {
   "cell_type": "code",
   "execution_count": null,
   "metadata": {},
   "outputs": [],
   "source": [
    "import pandas\n",
    "import seaborn\n",
    "\n",
    "print(\"Packages loaded!\")"
   ]
  },
  {
   "cell_type": "markdown",
   "metadata": {},
   "source": [
    "Next, we load data and look at the first few rows."
   ]
  },
  {
   "cell_type": "code",
   "execution_count": null,
   "metadata": {},
   "outputs": [],
   "source": [
    "tucson = pandas.read_csv(\"data/tucson-summer.csv\")\n",
    "tucson.head()"
   ]
  },
  {
   "cell_type": "markdown",
   "metadata": {},
   "source": [
    "Our first plot will be plotting the daily minimum temperature of the summer solstice over time. Using the seaborn method `regplot`, it will automatically draw the line from linear regression."
   ]
  },
  {
   "cell_type": "code",
   "execution_count": null,
   "metadata": {},
   "outputs": [],
   "source": [
    "seaborn.regplot(x = \"year\", y = \"tmin\", data = tucson)"
   ]
  },
  {
   "cell_type": "markdown",
   "metadata": {},
   "source": [
    "We should update our axis labels, using the `set` command. Note here we also assigned the plot to a variable (`tucson_plot`), so we could manipulate it."
   ]
  },
  {
   "cell_type": "code",
   "execution_count": null,
   "metadata": {},
   "outputs": [],
   "source": [
    "tucson_plot = seaborn.regplot(x = \"year\", y = \"tmin\", data = tucson)\n",
    "tucson_plot.set(ylabel = \"Miniumum temperature (F)\")"
   ]
  },
  {
   "cell_type": "markdown",
   "metadata": {},
   "source": [
    "Next, we will modify our code to change what we plot on the y-axis. In this case we want to plot the maximum temperature (`tmax`) on the y-axis. Update the code below to change the values we are plotting on the y-axis."
   ]
  },
  {
   "cell_type": "code",
   "execution_count": null,
   "metadata": {},
   "outputs": [],
   "source": [
    "tucson_plot = seaborn.regplot(x = \"year\", y = \"tmin\", data = tucson)\n",
    "tucson_plot.set(ylabel = \"Miniumum temperature (F)\")"
   ]
  },
  {
   "cell_type": "markdown",
   "metadata": {},
   "source": [
    "By default, it will add a linear regression line and confidence intervals. This may not be a linear relationship - try a polynomial relationship by adding `order = 2` to the `regplot` method (immediately following the data specification)."
   ]
  },
  {
   "cell_type": "code",
   "execution_count": null,
   "metadata": {},
   "outputs": [],
   "source": [
    "# Paste your code from above here, and update"
   ]
  },
  {
   "cell_type": "markdown",
   "metadata": {},
   "source": [
    "To finish off this plot, we want to write the plot to a png file."
   ]
  },
  {
   "cell_type": "code",
   "execution_count": null,
   "metadata": {},
   "outputs": [],
   "source": [
    "tucson_plot = # Copy and paste the plot code from the code block above\n",
    "\n",
    "# Leave this line as is\n",
    "tucson_plot.get_figure().savefig(\"output/tucson-plot.png\")"
   ]
  },
  {
   "cell_type": "markdown",
   "metadata": {},
   "source": [
    "After updating and running this last block of code, you can click the Jupyter logo in the top-left part of this notebook to see files that you can download (including the one we just saved). You can open a new tab with this view by right-clicking or control-clicking the icon."
   ]
  }
 ],
 "metadata": {
  "kernelspec": {
   "display_name": "Python 3 (ipykernel)",
   "language": "python",
   "name": "python3"
  },
  "language_info": {
   "codemirror_mode": {
    "name": "ipython",
    "version": 3
   },
   "file_extension": ".py",
   "mimetype": "text/x-python",
   "name": "python",
   "nbconvert_exporter": "python",
   "pygments_lexer": "ipython3",
   "version": "3.10.12"
  }
 },
 "nbformat": 4,
 "nbformat_minor": 4
}
