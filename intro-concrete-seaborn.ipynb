{
 "cells": [
  {
   "cell_type": "markdown",
   "metadata": {},
   "source": [
    "# Data Visualization in Python\n",
    "\n",
    "In this example, we will be plotting the factors that affect compressive strength of concrete.\n",
    "\n",
    "We start by importing additional packages necessary for this visualization."
   ]
  },
  {
   "cell_type": "code",
   "execution_count": null,
   "metadata": {},
   "outputs": [],
   "source": [
    "import pandas\n",
    "import seaborn\n",
    "\n",
    "print(\"Packages loaded!\")"
   ]
  },
  {
   "cell_type": "markdown",
   "metadata": {},
   "source": [
    "Next, we load data and look at the first few rows."
   ]
  },
  {
   "cell_type": "code",
   "execution_count": null,
   "metadata": {},
   "outputs": [],
   "source": [
    "concrete = pandas.read_csv(\"data/Concrete_Data.csv\")\n",
    "concrete.head()"
   ]
  },
  {
   "cell_type": "markdown",
   "metadata": {},
   "source": [
    "Our first plot will be plotting the Compressive Strength vs. the amount of cement. Using the seaborn method `regplot`, it will automatically draw the line from linear regression."
   ]
  },
  {
   "cell_type": "code",
   "execution_count": null,
   "metadata": {},
   "outputs": [],
   "source": [
    "seaborn.regplot(x = \"Cement\", y = \"Compressive_Strength\", data = concrete)"
   ]
  },
  {
   "cell_type": "markdown",
   "metadata": {},
   "source": [
    "We should update our axis labels, using the `set` command. Note here we also assigned the plot to a variable (`cement_plot`), so we could manipulate it."
   ]
  },
  {
   "cell_type": "code",
   "execution_count": null,
   "metadata": {},
   "outputs": [],
   "source": [
    "cement_plot = seaborn.regplot(x = \"Cement\", y = \"Compressive_Strength\", data = concrete)\n",
    "cement_plot.set(xlabel = \"Cement (kg/m3)\", ylabel = \"Strength (MPa)\")"
   ]
  },
  {
   "cell_type": "markdown",
   "metadata": {},
   "source": [
    "Next, we will modify our code to change what we plot on the x-axis. In this case we want to plot Age on the x-axis. Update the code below to change the values we are plotting on the x-axis."
   ]
  },
  {
   "cell_type": "code",
   "execution_count": null,
   "metadata": {},
   "outputs": [],
   "source": [
    "seaborn.regplot(x = \"Cement\", y = \"Compressive_Strength\", data = concrete)"
   ]
  },
  {
   "cell_type": "markdown",
   "metadata": {},
   "source": [
    "By default, it will add a linear regression line and confidence intervals. This does not look like a linear relationship (the compressive strength doesn't appear to increase continuously with age). Try a polynomial relationship by adding `order = 2` to the `regplot` method (immediately following the data specification)."
   ]
  },
  {
   "cell_type": "code",
   "execution_count": null,
   "metadata": {},
   "outputs": [],
   "source": [
    "# Paste your code from above here, and update"
   ]
  },
  {
   "cell_type": "markdown",
   "metadata": {},
   "source": [
    "Maybe a little better, but a 4-order polynomial works best. Change the order specification, replacing the `2` with `4` in the `order` argument."
   ]
  },
  {
   "cell_type": "code",
   "execution_count": null,
   "metadata": {},
   "outputs": [],
   "source": [
    "# Paste your code from the previous code block and update"
   ]
  },
  {
   "cell_type": "markdown",
   "metadata": {},
   "source": [
    "To finish off this plot, we want to:\n",
    "\n",
    "1. Change the axis labels to include units in parentheses (days for age and MPa for compressive strength)\n",
    "2. Write the plot to a png file"
   ]
  },
  {
   "cell_type": "code",
   "execution_count": null,
   "metadata": {},
   "outputs": [],
   "source": [
    "age_plot = # Copy and paste the plot code from the code block above\n",
    "age_plot.set(xlabel = \"<UPDATE>\", ylabel = \"<UPDATE>\") # Replace <UPDATE> with appropriate labels\n",
    "# Saves the plot to age-strength.png\n",
    "age_plot.get_figure().savefig(\"age-strength.png\")"
   ]
  },
  {
   "cell_type": "markdown",
   "metadata": {},
   "source": [
    "After updating and running this last block of code, you can click the Jupyter logo in the top-left part of this notebook to see files that you can download (including the one we just saved). You can open a new tab with this view by right-clicking or control-clicking the icon."
   ]
  }
 ],
 "metadata": {
  "kernelspec": {
   "display_name": "Python 3",
   "language": "python",
   "name": "python3"
  },
  "language_info": {
   "codemirror_mode": {
    "name": "ipython",
    "version": 3
   },
   "file_extension": ".py",
   "mimetype": "text/x-python",
   "name": "python",
   "nbconvert_exporter": "python",
   "pygments_lexer": "ipython3",
   "version": "3.8.5"
  }
 },
 "nbformat": 4,
 "nbformat_minor": 4
}
